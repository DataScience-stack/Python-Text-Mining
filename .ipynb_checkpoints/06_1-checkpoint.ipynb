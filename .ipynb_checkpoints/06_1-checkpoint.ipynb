{
 "metadata": {
  "language_info": {
   "codemirror_mode": {
    "name": "ipython",
    "version": 3
   },
   "file_extension": ".py",
   "mimetype": "text/x-python",
   "name": "python",
   "nbconvert_exporter": "python",
   "pygments_lexer": "ipython3",
   "version": "3.8.3-final"
  },
  "orig_nbformat": 2,
  "kernelspec": {
   "name": "python3",
   "display_name": "Python 3",
   "language": "python"
  }
 },
 "nbformat": 4,
 "nbformat_minor": 2,
 "cells": [
  {
   "cell_type": "code",
   "execution_count": 1,
   "metadata": {},
   "outputs": [
    {
     "output_type": "execute_result",
     "data": {
      "text/plain": [
       "   number                      firm  publishing country  \\\n",
       "0       2              Amorepacific           1   Korea   \n",
       "1       4              Amorepacific           3   Korea   \n",
       "2     502              Amorepacific           4   Korea   \n",
       "3       5           Asiana Airlines           1   Korea   \n",
       "4       6           Asiana Airlines           2   Korea   \n",
       "5       7           Asiana Airlines           3   Korea   \n",
       "6     503           Asiana Airlines           4   Korea   \n",
       "7      11  BNK Financial Group Inc.           3   Korea   \n",
       "8     504  BNK Financial Group Inc.           4   Korea   \n",
       "9      12                       BPA           3   Korea   \n",
       "\n",
       "                                                text  Unnamed: 5  Unnamed: 6  \\\n",
       "0  We will use beauty to change the world and bec...         NaN         NaN   \n",
       "1  AMOREPACIFC Group will endeavor to become a gr...         NaN         NaN   \n",
       "2  AMOREPACIFIC Group has been pursuing the path ...         NaN         NaN   \n",
       "3  This year marks the 25th anniversary of the es...         NaN         NaN   \n",
       "4  Since the inception, Asiana Airlines has pledg...         NaN         NaN   \n",
       "5  All of us will do our best without stopping fo...         NaN         NaN   \n",
       "6  First of all, I would like to express my heart...         NaN         NaN   \n",
       "7  Since the establishment of Busan Bank in 1967 ...         NaN         NaN   \n",
       "8  In March 2011, BNK Financial Group was launche...         NaN         NaN   \n",
       "9  I am pleased to introduce various sustainable ...         NaN         NaN   \n",
       "\n",
       "   Unnamed: 7  Unnamed: 8  Unnamed: 9  ...  Unnamed: 450  Unnamed: 451  \\\n",
       "0         NaN         NaN         NaN  ...           NaN           NaN   \n",
       "1         NaN         NaN         NaN  ...           NaN           NaN   \n",
       "2         NaN         NaN         NaN  ...           NaN           NaN   \n",
       "3         NaN         NaN         NaN  ...           NaN           NaN   \n",
       "4         NaN         NaN         NaN  ...           NaN           NaN   \n",
       "5         NaN         NaN         NaN  ...           NaN           NaN   \n",
       "6         NaN         NaN         NaN  ...           NaN           NaN   \n",
       "7         NaN         NaN         NaN  ...           NaN           NaN   \n",
       "8         NaN         NaN         NaN  ...           NaN           NaN   \n",
       "9         NaN         NaN         NaN  ...           NaN           NaN   \n",
       "\n",
       "   Unnamed: 452  Unnamed: 453  Unnamed: 454  Unnamed: 455  Unnamed: 456  \\\n",
       "0           NaN           NaN           NaN           NaN           NaN   \n",
       "1           NaN           NaN           NaN           NaN           NaN   \n",
       "2           NaN           NaN           NaN           NaN           NaN   \n",
       "3           NaN           NaN           NaN           NaN           NaN   \n",
       "4           NaN           NaN           NaN           NaN           NaN   \n",
       "5           NaN           NaN           NaN           NaN           NaN   \n",
       "6           NaN           NaN           NaN           NaN           NaN   \n",
       "7           NaN           NaN           NaN           NaN           NaN   \n",
       "8           NaN           NaN           NaN           NaN           NaN   \n",
       "9           NaN           NaN           NaN           NaN           NaN   \n",
       "\n",
       "   Unnamed: 457  Unnamed: 458  Unnamed: 459  \n",
       "0           NaN           NaN           NaN  \n",
       "1           NaN           NaN           NaN  \n",
       "2           NaN           NaN           NaN  \n",
       "3           NaN           NaN           NaN  \n",
       "4           NaN           NaN           NaN  \n",
       "5           NaN           NaN           NaN  \n",
       "6           NaN           NaN           NaN  \n",
       "7           NaN           NaN           NaN  \n",
       "8           NaN           NaN           NaN  \n",
       "9           NaN           NaN           NaN  \n",
       "\n",
       "[10 rows x 460 columns]"
      ],
      "text/html": "<div>\n<style scoped>\n    .dataframe tbody tr th:only-of-type {\n        vertical-align: middle;\n    }\n\n    .dataframe tbody tr th {\n        vertical-align: top;\n    }\n\n    .dataframe thead th {\n        text-align: right;\n    }\n</style>\n<table border=\"1\" class=\"dataframe\">\n  <thead>\n    <tr style=\"text-align: right;\">\n      <th></th>\n      <th>number</th>\n      <th>firm</th>\n      <th>publishing</th>\n      <th>country</th>\n      <th>text</th>\n      <th>Unnamed: 5</th>\n      <th>Unnamed: 6</th>\n      <th>Unnamed: 7</th>\n      <th>Unnamed: 8</th>\n      <th>Unnamed: 9</th>\n      <th>...</th>\n      <th>Unnamed: 450</th>\n      <th>Unnamed: 451</th>\n      <th>Unnamed: 452</th>\n      <th>Unnamed: 453</th>\n      <th>Unnamed: 454</th>\n      <th>Unnamed: 455</th>\n      <th>Unnamed: 456</th>\n      <th>Unnamed: 457</th>\n      <th>Unnamed: 458</th>\n      <th>Unnamed: 459</th>\n    </tr>\n  </thead>\n  <tbody>\n    <tr>\n      <th>0</th>\n      <td>2</td>\n      <td>Amorepacific</td>\n      <td>1</td>\n      <td>Korea</td>\n      <td>We will use beauty to change the world and bec...</td>\n      <td>NaN</td>\n      <td>NaN</td>\n      <td>NaN</td>\n      <td>NaN</td>\n      <td>NaN</td>\n      <td>...</td>\n      <td>NaN</td>\n      <td>NaN</td>\n      <td>NaN</td>\n      <td>NaN</td>\n      <td>NaN</td>\n      <td>NaN</td>\n      <td>NaN</td>\n      <td>NaN</td>\n      <td>NaN</td>\n      <td>NaN</td>\n    </tr>\n    <tr>\n      <th>1</th>\n      <td>4</td>\n      <td>Amorepacific</td>\n      <td>3</td>\n      <td>Korea</td>\n      <td>AMOREPACIFC Group will endeavor to become a gr...</td>\n      <td>NaN</td>\n      <td>NaN</td>\n      <td>NaN</td>\n      <td>NaN</td>\n      <td>NaN</td>\n      <td>...</td>\n      <td>NaN</td>\n      <td>NaN</td>\n      <td>NaN</td>\n      <td>NaN</td>\n      <td>NaN</td>\n      <td>NaN</td>\n      <td>NaN</td>\n      <td>NaN</td>\n      <td>NaN</td>\n      <td>NaN</td>\n    </tr>\n    <tr>\n      <th>2</th>\n      <td>502</td>\n      <td>Amorepacific</td>\n      <td>4</td>\n      <td>Korea</td>\n      <td>AMOREPACIFIC Group has been pursuing the path ...</td>\n      <td>NaN</td>\n      <td>NaN</td>\n      <td>NaN</td>\n      <td>NaN</td>\n      <td>NaN</td>\n      <td>...</td>\n      <td>NaN</td>\n      <td>NaN</td>\n      <td>NaN</td>\n      <td>NaN</td>\n      <td>NaN</td>\n      <td>NaN</td>\n      <td>NaN</td>\n      <td>NaN</td>\n      <td>NaN</td>\n      <td>NaN</td>\n    </tr>\n    <tr>\n      <th>3</th>\n      <td>5</td>\n      <td>Asiana Airlines</td>\n      <td>1</td>\n      <td>Korea</td>\n      <td>This year marks the 25th anniversary of the es...</td>\n      <td>NaN</td>\n      <td>NaN</td>\n      <td>NaN</td>\n      <td>NaN</td>\n      <td>NaN</td>\n      <td>...</td>\n      <td>NaN</td>\n      <td>NaN</td>\n      <td>NaN</td>\n      <td>NaN</td>\n      <td>NaN</td>\n      <td>NaN</td>\n      <td>NaN</td>\n      <td>NaN</td>\n      <td>NaN</td>\n      <td>NaN</td>\n    </tr>\n    <tr>\n      <th>4</th>\n      <td>6</td>\n      <td>Asiana Airlines</td>\n      <td>2</td>\n      <td>Korea</td>\n      <td>Since the inception, Asiana Airlines has pledg...</td>\n      <td>NaN</td>\n      <td>NaN</td>\n      <td>NaN</td>\n      <td>NaN</td>\n      <td>NaN</td>\n      <td>...</td>\n      <td>NaN</td>\n      <td>NaN</td>\n      <td>NaN</td>\n      <td>NaN</td>\n      <td>NaN</td>\n      <td>NaN</td>\n      <td>NaN</td>\n      <td>NaN</td>\n      <td>NaN</td>\n      <td>NaN</td>\n    </tr>\n    <tr>\n      <th>5</th>\n      <td>7</td>\n      <td>Asiana Airlines</td>\n      <td>3</td>\n      <td>Korea</td>\n      <td>All of us will do our best without stopping fo...</td>\n      <td>NaN</td>\n      <td>NaN</td>\n      <td>NaN</td>\n      <td>NaN</td>\n      <td>NaN</td>\n      <td>...</td>\n      <td>NaN</td>\n      <td>NaN</td>\n      <td>NaN</td>\n      <td>NaN</td>\n      <td>NaN</td>\n      <td>NaN</td>\n      <td>NaN</td>\n      <td>NaN</td>\n      <td>NaN</td>\n      <td>NaN</td>\n    </tr>\n    <tr>\n      <th>6</th>\n      <td>503</td>\n      <td>Asiana Airlines</td>\n      <td>4</td>\n      <td>Korea</td>\n      <td>First of all, I would like to express my heart...</td>\n      <td>NaN</td>\n      <td>NaN</td>\n      <td>NaN</td>\n      <td>NaN</td>\n      <td>NaN</td>\n      <td>...</td>\n      <td>NaN</td>\n      <td>NaN</td>\n      <td>NaN</td>\n      <td>NaN</td>\n      <td>NaN</td>\n      <td>NaN</td>\n      <td>NaN</td>\n      <td>NaN</td>\n      <td>NaN</td>\n      <td>NaN</td>\n    </tr>\n    <tr>\n      <th>7</th>\n      <td>11</td>\n      <td>BNK Financial Group Inc.</td>\n      <td>3</td>\n      <td>Korea</td>\n      <td>Since the establishment of Busan Bank in 1967 ...</td>\n      <td>NaN</td>\n      <td>NaN</td>\n      <td>NaN</td>\n      <td>NaN</td>\n      <td>NaN</td>\n      <td>...</td>\n      <td>NaN</td>\n      <td>NaN</td>\n      <td>NaN</td>\n      <td>NaN</td>\n      <td>NaN</td>\n      <td>NaN</td>\n      <td>NaN</td>\n      <td>NaN</td>\n      <td>NaN</td>\n      <td>NaN</td>\n    </tr>\n    <tr>\n      <th>8</th>\n      <td>504</td>\n      <td>BNK Financial Group Inc.</td>\n      <td>4</td>\n      <td>Korea</td>\n      <td>In March 2011, BNK Financial Group was launche...</td>\n      <td>NaN</td>\n      <td>NaN</td>\n      <td>NaN</td>\n      <td>NaN</td>\n      <td>NaN</td>\n      <td>...</td>\n      <td>NaN</td>\n      <td>NaN</td>\n      <td>NaN</td>\n      <td>NaN</td>\n      <td>NaN</td>\n      <td>NaN</td>\n      <td>NaN</td>\n      <td>NaN</td>\n      <td>NaN</td>\n      <td>NaN</td>\n    </tr>\n    <tr>\n      <th>9</th>\n      <td>12</td>\n      <td>BPA</td>\n      <td>3</td>\n      <td>Korea</td>\n      <td>I am pleased to introduce various sustainable ...</td>\n      <td>NaN</td>\n      <td>NaN</td>\n      <td>NaN</td>\n      <td>NaN</td>\n      <td>NaN</td>\n      <td>...</td>\n      <td>NaN</td>\n      <td>NaN</td>\n      <td>NaN</td>\n      <td>NaN</td>\n      <td>NaN</td>\n      <td>NaN</td>\n      <td>NaN</td>\n      <td>NaN</td>\n      <td>NaN</td>\n      <td>NaN</td>\n    </tr>\n  </tbody>\n</table>\n<p>10 rows × 460 columns</p>\n</div>"
     },
     "metadata": {},
     "execution_count": 1
    }
   ],
   "source": [
    "import pandas as pd \n",
    "\n",
    "data_file = \"./data/CEO3.csv\"\n",
    "\n",
    "df = pd.read_csv(data_file, encoding='latin')\n",
    "df[0:10]"
   ]
  },
  {
   "cell_type": "code",
   "execution_count": 2,
   "metadata": {},
   "outputs": [
    {
     "output_type": "stream",
     "name": "stdout",
     "text": [
      "<class 'pandas.core.series.Series'>\n"
     ]
    }
   ],
   "source": [
    "texts = df.get('text')\n",
    "print(type(texts))\n"
   ]
  },
  {
   "cell_type": "code",
   "execution_count": 3,
   "metadata": {},
   "outputs": [
    {
     "output_type": "stream",
     "name": "stdout",
     "text": [
      "0    We will use beauty to change the world and bec...\n1    AMOREPACIFC Group will endeavor to become a gr...\n2    AMOREPACIFIC Group has been pursuing the path ...\n3    This year marks the 25th anniversary of the es...\n4    Since the inception, Asiana Airlines has pledg...\n5    All of us will do our best without stopping fo...\n6    First of all, I would like to express my heart...\n7    Since the establishment of Busan Bank in 1967 ...\n8    In March 2011, BNK Financial Group was launche...\n9    I am pleased to introduce various sustainable ...\nName: text, dtype: object\n"
     ]
    }
   ],
   "source": [
    "print(texts[0: 10])"
   ]
  },
  {
   "cell_type": "code",
   "execution_count": 5,
   "metadata": {},
   "outputs": [
    {
     "output_type": "error",
     "ename": "ModuleNotFoundError",
     "evalue": "No module named 'nltk'",
     "traceback": [
      "\u001b[1;31m---------------------------------------------------------------------------\u001b[0m",
      "\u001b[1;31mModuleNotFoundError\u001b[0m                       Traceback (most recent call last)",
      "\u001b[1;32m<ipython-input-5-a7f2c06d8766>\u001b[0m in \u001b[0;36m<module>\u001b[1;34m\u001b[0m\n\u001b[1;32m----> 1\u001b[1;33m \u001b[1;32mfrom\u001b[0m \u001b[0mnltk\u001b[0m\u001b[1;33m.\u001b[0m\u001b[0mtokenize\u001b[0m \u001b[1;32mimport\u001b[0m \u001b[0mRegexpTokenizer\u001b[0m\u001b[1;33m\u001b[0m\u001b[1;33m\u001b[0m\u001b[0m\n\u001b[0m\u001b[0;32m      2\u001b[0m \u001b[1;33m\u001b[0m\u001b[0m\n\u001b[0;32m      3\u001b[0m \u001b[0mtokenizer\u001b[0m \u001b[1;33m=\u001b[0m \u001b[0mRegexpTokenizer\u001b[0m\u001b[1;33m(\u001b[0m\u001b[1;34mr'+'\u001b[0m\u001b[1;33m)\u001b[0m\u001b[1;33m\u001b[0m\u001b[1;33m\u001b[0m\u001b[0m\n\u001b[0;32m      4\u001b[0m \u001b[1;33m\u001b[0m\u001b[0m\n\u001b[0;32m      5\u001b[0m \u001b[1;33m\u001b[0m\u001b[0m\n",
      "\u001b[1;31mModuleNotFoundError\u001b[0m: No module named 'nltk'"
     ]
    }
   ],
   "source": [
    "from nltk.tokenize import RegexpTokenizer\n",
    "\n",
    "tokenizer = RegexpTokenizer(r'+')\n",
    "\n",
    "\n",
    "from nltk.stem import WordNetLemmatizer\n",
    "\n",
    "lemmatizer = WordNetLemmatizer()"
   ]
  },
  {
   "cell_type": "code",
   "execution_count": null,
   "metadata": {},
   "outputs": [],
   "source": []
  }
 ]
}